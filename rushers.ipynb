{
 "cells": [
  {
   "cell_type": "code",
   "execution_count": 1,
   "metadata": {},
   "outputs": [],
   "source": [
    "import pandas as pd\n",
    "import re"
   ]
  },
  {
   "cell_type": "code",
   "execution_count": 2,
   "metadata": {},
   "outputs": [],
   "source": [
    "output = []\n",
    "\n",
    "for i in range(1932,2022):\n",
    "    p = pd.read_html(\"https://www.pro-football-reference.com/years/\" + str(i) + \"/rushing.htm\")\n",
    "    new = p[0].fillna(0)\n",
    "    new = new[new[\"Unnamed: 2_level_0\"][\"Tm\"]!=\"Tm\"]\n",
    "    avy = (new[\"Rushing\"][\"Yds\"].astype(int).sum())/new[\"Rushing\"][\"Att\"].astype(int).sum()\n",
    "    avt = (new[\"Rushing\"][\"TD\"].astype(int).sum())/new[\"Rushing\"][\"Att\"].astype(int).sum()\n",
    "    try:\n",
    "        avf = (new[\"Unnamed: 13_level_0\"][\"Fmb\"].astype(int).sum())/new[\"Rushing\"][\"Att\"].astype(int).sum()\n",
    "    except:\n",
    "        avf = (new[\"Unnamed: 14_level_0\"][\"Fmb\"].astype(int).sum())/new[\"Rushing\"][\"Att\"].astype(int).sum()\n",
    "    for index, row in new.iterrows():\n",
    "        name = row[\"Unnamed: 1_level_0\"][\"Player\"].replace(\"*\",\"\").replace(\"+\",\"\").rstrip()\n",
    "        team = row[\"Unnamed: 2_level_0\"][\"Tm\"]\n",
    "        age = row[\"Unnamed: 3_level_0\"][\"Age\"]\n",
    "        y = (int(row[\"Rushing\"][\"Yds\"]) - (avy*int(row[\"Rushing\"][\"Att\"])))\n",
    "        t = (int(row[\"Rushing\"][\"TD\"]) - (avt*int(row[\"Rushing\"][\"Att\"])))\n",
    "        try:\n",
    "            fmb = (int(row[\"Unnamed: 13_level_0\"][\"Fmb\"]) - (avf*int(row[\"Rushing\"][\"Att\"])))\n",
    "        except:\n",
    "            fmb = (int(row[\"Unnamed: 14_level_0\"][\"Fmb\"]) - (avf*int(row[\"Rushing\"][\"Att\"])))\n",
    "        score = y*.05 + t*2 - fmb*2\n",
    "        season = i\n",
    "        output.append([name,team,age,season,y,t,fmb,score])\n",
    "        \n",
    "for i in range(1960,1970):\n",
    "    p = pd.read_html(\"https://www.pro-football-reference.com/years/\" + str(i) + \"_AFL/rushing.htm\")\n",
    "    new = p[0].fillna(0)\n",
    "    new = new[new[\"Unnamed: 2_level_0\"][\"Tm\"]!=\"Tm\"]\n",
    "    avy = (new[\"Rushing\"][\"Yds\"].astype(int).sum())/new[\"Rushing\"][\"Att\"].astype(int).sum()\n",
    "    avt = (new[\"Rushing\"][\"TD\"].astype(int).sum())/new[\"Rushing\"][\"Att\"].astype(int).sum()\n",
    "    try:\n",
    "        avf = (new[\"Unnamed: 13_level_0\"][\"Fmb\"].astype(int).sum())/new[\"Rushing\"][\"Att\"].astype(int).sum()\n",
    "    except:\n",
    "        avf = (new[\"Unnamed: 14_level_0\"][\"Fmb\"].astype(int).sum())/new[\"Rushing\"][\"Att\"].astype(int).sum()\n",
    "    for index, row in new.iterrows():\n",
    "        name = row[\"Unnamed: 1_level_0\"][\"Player\"].replace(\"*\",\"\").replace(\"+\",\"\").rstrip()\n",
    "        team = row[\"Unnamed: 2_level_0\"][\"Tm\"]\n",
    "        age = row[\"Unnamed: 3_level_0\"][\"Age\"]\n",
    "        y = (int(row[\"Rushing\"][\"Yds\"]) - (avy*int(row[\"Rushing\"][\"Att\"])))\n",
    "        t = (int(row[\"Rushing\"][\"TD\"]) - (avt*int(row[\"Rushing\"][\"Att\"])))\n",
    "        try:\n",
    "            fmb = (int(row[\"Unnamed: 13_level_0\"][\"Fmb\"]) - (avf*int(row[\"Rushing\"][\"Att\"])))\n",
    "        except:\n",
    "            fmb = (int(row[\"Unnamed: 14_level_0\"][\"Fmb\"]) - (avf*int(row[\"Rushing\"][\"Att\"])))\n",
    "        score = y*.05 + t*2 - fmb*2\n",
    "        season = i\n",
    "        output.append([name,team,age,season,y,t,fmb,score])"
   ]
  },
  {
   "cell_type": "code",
   "execution_count": 3,
   "metadata": {},
   "outputs": [],
   "source": [
    "output = pd.DataFrame(output)\n",
    "output.columns = [\"Name\",\"Team\",\"Age\",\"Season\",\"Yards\",\"TD\",\"FMB\",\"Score\"]"
   ]
  },
  {
   "cell_type": "code",
   "execution_count": 6,
   "metadata": {},
   "outputs": [],
   "source": [
    "output.to_csv(\"rusherseasons.csv\")"
   ]
  },
  {
   "cell_type": "code",
   "execution_count": 7,
   "metadata": {},
   "outputs": [],
   "source": [
    "careers = output.groupby(\"Name\").sum()\n",
    "careers[\"Seasons\"] = output.groupby(\"Name\")[\"Season\"].count()\n",
    "careers[\"Season\"] = output.groupby(\"Name\")[\"Season\"].min()\n",
    "careers.to_csv(\"rushercareers.csv\")"
   ]
  },
  {
   "cell_type": "code",
   "execution_count": null,
   "metadata": {},
   "outputs": [],
   "source": []
  }
 ],
 "metadata": {
  "kernelspec": {
   "display_name": "Python 3 (ipykernel)",
   "language": "python",
   "name": "python3"
  },
  "language_info": {
   "codemirror_mode": {
    "name": "ipython",
    "version": 3
   },
   "file_extension": ".py",
   "mimetype": "text/x-python",
   "name": "python",
   "nbconvert_exporter": "python",
   "pygments_lexer": "ipython3",
   "version": "3.10.1"
  }
 },
 "nbformat": 4,
 "nbformat_minor": 4
}
