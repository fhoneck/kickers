{
 "cells": [
  {
   "cell_type": "code",
   "execution_count": 6,
   "metadata": {},
   "outputs": [],
   "source": [
    "import pandas as pd\n",
    "import re"
   ]
  },
  {
   "cell_type": "code",
   "execution_count": 7,
   "metadata": {},
   "outputs": [
    {
     "name": "stderr",
     "output_type": "stream",
     "text": [
      "c:\\users\\foster\\appdata\\local\\programs\\python\\python37\\lib\\site-packages\\pandas\\core\\computation\\expressions.py:68: FutureWarning: elementwise comparison failed; returning scalar instead, but in the future will perform elementwise comparison\n",
      "  return op(a, b)\n",
      "c:\\users\\foster\\appdata\\local\\programs\\python\\python37\\lib\\site-packages\\pandas\\core\\computation\\expressions.py:68: FutureWarning: elementwise comparison failed; returning scalar instead, but in the future will perform elementwise comparison\n",
      "  return op(a, b)\n",
      "c:\\users\\foster\\appdata\\local\\programs\\python\\python37\\lib\\site-packages\\pandas\\core\\computation\\expressions.py:68: FutureWarning: elementwise comparison failed; returning scalar instead, but in the future will perform elementwise comparison\n",
      "  return op(a, b)\n",
      "c:\\users\\foster\\appdata\\local\\programs\\python\\python37\\lib\\site-packages\\pandas\\core\\computation\\expressions.py:68: FutureWarning: elementwise comparison failed; returning scalar instead, but in the future will perform elementwise comparison\n",
      "  return op(a, b)\n",
      "c:\\users\\foster\\appdata\\local\\programs\\python\\python37\\lib\\site-packages\\pandas\\core\\computation\\expressions.py:68: FutureWarning: elementwise comparison failed; returning scalar instead, but in the future will perform elementwise comparison\n",
      "  return op(a, b)\n",
      "c:\\users\\foster\\appdata\\local\\programs\\python\\python37\\lib\\site-packages\\pandas\\core\\computation\\expressions.py:68: FutureWarning: elementwise comparison failed; returning scalar instead, but in the future will perform elementwise comparison\n",
      "  return op(a, b)\n",
      "c:\\users\\foster\\appdata\\local\\programs\\python\\python37\\lib\\site-packages\\pandas\\core\\computation\\expressions.py:68: FutureWarning: elementwise comparison failed; returning scalar instead, but in the future will perform elementwise comparison\n",
      "  return op(a, b)\n",
      "c:\\users\\foster\\appdata\\local\\programs\\python\\python37\\lib\\site-packages\\pandas\\core\\computation\\expressions.py:68: FutureWarning: elementwise comparison failed; returning scalar instead, but in the future will perform elementwise comparison\n",
      "  return op(a, b)\n",
      "c:\\users\\foster\\appdata\\local\\programs\\python\\python37\\lib\\site-packages\\pandas\\core\\computation\\expressions.py:68: FutureWarning: elementwise comparison failed; returning scalar instead, but in the future will perform elementwise comparison\n",
      "  return op(a, b)\n",
      "c:\\users\\foster\\appdata\\local\\programs\\python\\python37\\lib\\site-packages\\pandas\\core\\computation\\expressions.py:68: FutureWarning: elementwise comparison failed; returning scalar instead, but in the future will perform elementwise comparison\n",
      "  return op(a, b)\n"
     ]
    }
   ],
   "source": [
    "output = []\n",
    "\n",
    "for i in range(1960,2021):\n",
    "    #print(i)\n",
    "    p = pd.read_html(\"https://www.pro-football-reference.com/years/\" + str(i) + \"/kicking.htm\")\n",
    "    new = p[0].fillna(0)\n",
    "    new = new[new[\"0-19\"][\"FGM\"]!=\"FGM\"]\n",
    "    a = (new[\"0-19\"][\"FGM\"].astype(int).sum())/new[\"0-19\"][\"FGA\"].astype(int).sum()\n",
    "    b = (new[\"20-29\"][\"FGM\"].astype(int).sum())/new[\"20-29\"][\"FGA\"].astype(int).sum()\n",
    "    c = (new[\"30-39\"][\"FGM\"].astype(int).sum())/new[\"30-39\"][\"FGA\"].astype(int).sum()\n",
    "    d = (new[\"40-49\"][\"FGM\"].astype(int).sum())/new[\"40-49\"][\"FGA\"].astype(int).sum()\n",
    "    e = (new[\"50+\"][\"FGM\"].astype(int).sum())/new[\"50+\"][\"FGA\"].astype(int).sum()\n",
    "    x = (new[\"Scoring\"][\"XPM\"].astype(int).sum())/new[\"Scoring\"][\"XPA\"].astype(int).sum()\n",
    "    for index, row in new.iterrows():\n",
    "        name = row[\"Unnamed: 1_level_0\"][\"Player\"].replace(\"*\",\"\").replace(\"+\",\"\").rstrip()\n",
    "        team = row[\"Unnamed: 2_level_0\"][\"Tm\"]\n",
    "        age = row[\"Unnamed: 3_level_0\"][\"Age\"]\n",
    "        season = i\n",
    "        z = (int(row[\"0-19\"][\"FGM\"]) - (a*int(row[\"0-19\"][\"FGA\"])))*3\n",
    "        y = (int(row[\"20-29\"][\"FGM\"]) - (b*int(row[\"20-29\"][\"FGA\"])))*3\n",
    "        w = (int(row[\"30-39\"][\"FGM\"]) - (c*int(row[\"30-39\"][\"FGA\"])))*3\n",
    "        v = (int(row[\"40-49\"][\"FGM\"]) - (d*int(row[\"40-49\"][\"FGA\"])))*3\n",
    "        u = (int(row[\"50+\"][\"FGM\"]) - (e*int(row[\"50+\"][\"FGA\"])))*3\n",
    "        t = int(row[\"Scoring\"][\"XPM\"]) - (x*int(row[\"Scoring\"][\"XPA\"]))\n",
    "        total = z + y + w + v + u + t\n",
    "        output.append([name,team,age,season,z,y,w,v,u,t,total])\n",
    "        \n",
    "for i in range(1960,1970):\n",
    "    #print(i)\n",
    "    p = pd.read_html(\"https://www.pro-football-reference.com/years/\" + str(i) + \"_AFL/kicking.htm\")\n",
    "    new = p[0].fillna(0)\n",
    "    new = new[new[\"0-19\"][\"FGM\"]!=\"FGM\"]\n",
    "    a = (new[\"0-19\"][\"FGM\"].astype(int).sum())/new[\"0-19\"][\"FGA\"].astype(int).sum()\n",
    "    b = (new[\"20-29\"][\"FGM\"].astype(int).sum())/new[\"20-29\"][\"FGA\"].astype(int).sum()\n",
    "    c = (new[\"30-39\"][\"FGM\"].astype(int).sum())/new[\"30-39\"][\"FGA\"].astype(int).sum()\n",
    "    d = (new[\"40-49\"][\"FGM\"].astype(int).sum())/new[\"40-49\"][\"FGA\"].astype(int).sum()\n",
    "    e = (new[\"50+\"][\"FGM\"].astype(int).sum())/new[\"50+\"][\"FGA\"].astype(int).sum()\n",
    "    x = (new[\"Scoring\"][\"XPM\"].astype(int).sum())/new[\"Scoring\"][\"XPA\"].astype(int).sum()\n",
    "    for index, row in new.iterrows():\n",
    "        name = row[\"Unnamed: 1_level_0\"][\"Player\"].replace(\"*\",\"\").replace(\"+\",\"\").rstrip()\n",
    "        team = row[\"Unnamed: 2_level_0\"][\"Tm\"]\n",
    "        age = row[\"Unnamed: 3_level_0\"][\"Age\"]\n",
    "        season = i\n",
    "        z = (int(row[\"0-19\"][\"FGM\"]) - (a*int(row[\"0-19\"][\"FGA\"])))*3\n",
    "        y = (int(row[\"20-29\"][\"FGM\"]) - (b*int(row[\"20-29\"][\"FGA\"])))*3\n",
    "        w = (int(row[\"30-39\"][\"FGM\"]) - (c*int(row[\"30-39\"][\"FGA\"])))*3\n",
    "        v = (int(row[\"40-49\"][\"FGM\"]) - (d*int(row[\"40-49\"][\"FGA\"])))*3\n",
    "        u = (int(row[\"50+\"][\"FGM\"]) - (e*int(row[\"50+\"][\"FGA\"])))*3\n",
    "        t = int(row[\"Scoring\"][\"XPM\"]) - (x*int(row[\"Scoring\"][\"XPA\"]))\n",
    "        total = z + y + w + v + u + t\n",
    "        output.append([name,team,age,season,z,y,w,v,u,t,total])"
   ]
  },
  {
   "cell_type": "code",
   "execution_count": 8,
   "metadata": {},
   "outputs": [],
   "source": [
    "output = pd.DataFrame(output)\n",
    "output.columns = [\"Name\",\"Team\",\"Age\",\"Season\",\"0-19\",\"20-29\",\"30-39\",\"40-49\",\"50+\",\"XP\",\"Total\"]"
   ]
  },
  {
   "cell_type": "code",
   "execution_count": 9,
   "metadata": {},
   "outputs": [],
   "source": [
    "output.to_csv(\"kickerseasons.csv\")"
   ]
  },
  {
   "cell_type": "code",
   "execution_count": 10,
   "metadata": {},
   "outputs": [],
   "source": [
    "careers = output.groupby(\"Name\").sum()\n",
    "careers[\"Seasons\"] = output.groupby(\"Name\")[\"Season\"].count()\n",
    "careers[\"Season\"] = output.groupby(\"Name\")[\"Season\"].min()\n",
    "careers.to_csv(\"kickercareers.csv\")"
   ]
  },
  {
   "cell_type": "code",
   "execution_count": null,
   "metadata": {},
   "outputs": [],
   "source": []
  }
 ],
 "metadata": {
  "kernelspec": {
   "display_name": "Python 3",
   "language": "python",
   "name": "python3"
  },
  "language_info": {
   "codemirror_mode": {
    "name": "ipython",
    "version": 3
   },
   "file_extension": ".py",
   "mimetype": "text/x-python",
   "name": "python",
   "nbconvert_exporter": "python",
   "pygments_lexer": "ipython3",
   "version": "3.7.9"
  }
 },
 "nbformat": 4,
 "nbformat_minor": 4
}
