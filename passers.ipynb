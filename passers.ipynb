{
 "cells": [
  {
   "cell_type": "code",
   "execution_count": 1,
   "metadata": {},
   "outputs": [],
   "source": [
    "import pandas as pd\n",
    "import re"
   ]
  },
  {
   "cell_type": "code",
   "execution_count": 2,
   "metadata": {},
   "outputs": [],
   "source": [
    "output = []\n",
    "\n",
    "for i in range(1932,2021):\n",
    "    p = pd.read_html(\"https://www.pro-football-reference.com/years/\" + str(i) + \"/passing.htm\")\n",
    "    new = p[0].fillna(0)\n",
    "    new = new[new[\"Tm\"]!=\"Tm\"]\n",
    "    avy = (new[\"Yds\"].astype(int).sum())/new[\"Att\"].astype(int).sum()\n",
    "    avt = (new[\"TD\"].astype(int).sum())/new[\"Att\"].astype(int).sum()\n",
    "    avi = (new[\"Int\"].astype(int).sum())/new[\"Att\"].astype(int).sum()\n",
    "    for index, row in new.iterrows():\n",
    "        name = row[\"Player\"].replace(\"*\",\"\").replace(\"+\",\"\").rstrip()\n",
    "        team = row[\"Tm\"]\n",
    "        age = row[\"Age\"]\n",
    "        y = (int(row[\"Yds\"]) - (avy*int(row[\"Att\"])))\n",
    "        t = (int(row[\"TD\"]) - (avt*int(row[\"Att\"])))\n",
    "        inte = (int(row[\"Int\"]) - (avi*int(row[\"Att\"])))\n",
    "        score = y*.05 + t*2 - inte*2\n",
    "        season = i\n",
    "        output.append([name,team,age,season,y,t,inte,score])\n",
    "        \n",
    "for i in range(1960,1970):\n",
    "    p = pd.read_html(\"https://www.pro-football-reference.com/years/\" + str(i) + \"_AFL/passing.htm\")\n",
    "    new = p[0].fillna(0)\n",
    "    new = new[new[\"Tm\"]!=\"Tm\"]\n",
    "    avy = (new[\"Yds\"].astype(int).sum())/new[\"Att\"].astype(int).sum()\n",
    "    avt = (new[\"TD\"].astype(int).sum())/new[\"Att\"].astype(int).sum()\n",
    "    avi = (new[\"Int\"].astype(int).sum())/new[\"Att\"].astype(int).sum()\n",
    "    for index, row in new.iterrows():\n",
    "        name = row[\"Player\"].replace(\"*\",\"\").replace(\"+\",\"\").rstrip()\n",
    "        team = row[\"Tm\"]\n",
    "        age = row[\"Age\"]\n",
    "        y = (int(row[\"Yds\"]) - (avy*int(row[\"Att\"])))\n",
    "        t = (int(row[\"TD\"]) - (avt*int(row[\"Att\"])))\n",
    "        inte = (int(row[\"Int\"]) - (avi*int(row[\"Att\"])))\n",
    "        score = y*.05 + t*2 - inte*2\n",
    "        season = i\n",
    "        output.append([name,team,age,season,y,t,inte,score])"
   ]
  },
  {
   "cell_type": "code",
   "execution_count": 3,
   "metadata": {},
   "outputs": [],
   "source": [
    "output = pd.DataFrame(output)\n",
    "output.columns = [\"Name\",\"Team\",\"Age\",\"Season\",\"Yards\",\"TD\",\"INT\",\"Score\"]"
   ]
  },
  {
   "cell_type": "code",
   "execution_count": 4,
   "metadata": {},
   "outputs": [],
   "source": [
    "output.to_csv(\"passerseasons.csv\")"
   ]
  },
  {
   "cell_type": "code",
   "execution_count": 5,
   "metadata": {},
   "outputs": [],
   "source": [
    "careers = output.groupby(\"Name\").sum()\n",
    "careers[\"Seasons\"] = output.groupby(\"Name\")[\"Season\"].count()\n",
    "careers[\"Season\"] = output.groupby(\"Name\")[\"Season\"].min()\n",
    "careers.to_csv(\"passercareers.csv\")"
   ]
  },
  {
   "cell_type": "code",
   "execution_count": null,
   "metadata": {},
   "outputs": [],
   "source": []
  }
 ],
 "metadata": {
  "kernelspec": {
   "display_name": "Python 3",
   "language": "python",
   "name": "python3"
  },
  "language_info": {
   "codemirror_mode": {
    "name": "ipython",
    "version": 3
   },
   "file_extension": ".py",
   "mimetype": "text/x-python",
   "name": "python",
   "nbconvert_exporter": "python",
   "pygments_lexer": "ipython3",
   "version": "3.7.9"
  }
 },
 "nbformat": 4,
 "nbformat_minor": 4
}
